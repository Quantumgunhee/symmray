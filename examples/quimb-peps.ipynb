{
 "cells": [
  {
   "cell_type": "code",
   "execution_count": 1,
   "metadata": {},
   "outputs": [],
   "source": [
    "import numpy as np\n",
    "import symmray as sr\n",
    "import quimb.tensor as qtn"
   ]
  },
  {
   "cell_type": "code",
   "execution_count": 2,
   "metadata": {},
   "outputs": [],
   "source": [
    "Lx = 6\n",
    "Ly = 6\n",
    "D = 6\n",
    "seed = 42"
   ]
  },
  {
   "cell_type": "code",
   "execution_count": 3,
   "metadata": {},
   "outputs": [],
   "source": [
    "edges = qtn.edges_2d_square(Lx, Ly)\n",
    "site_info = sr.utils.parse_edges_to_site_info(\n",
    "    edges,\n",
    "    D,\n",
    "    phys_dim=2,\n",
    "    site_ind_id=\"k{},{}\",\n",
    "    site_tag_id=\"I{},{}\",\n",
    ")"
   ]
  },
  {
   "cell_type": "code",
   "execution_count": 4,
   "metadata": {},
   "outputs": [
    {
     "data": {
      "text/html": [
       "<samp style='font-size: 12px;'><details><summary><b style=\"color: #cde19a;\">PEPS</b>(tensors=36, indices=96, Lx=6, Ly=6, max_bond=6)</summary><samp style='font-size: 12px;'><details><summary><b style=\"color: #e55471;\">Tensor</b>(shape=(<b style=\"color: #a4de79;\">6</b>, <b style=\"color: #a4de79;\">6</b>, <b style=\"color: #828fdd;\">2</b>), inds=[<b style=\"color: #5ee1a8;\">b(0, 0)-(0, 1)</b>, <b style=\"color: #959bdf;\">b(0, 0)-(1, 0)</b>, <b style=\"color: #5fce5e;\">k0,0</b>], tags={<b style=\"color: #8b77de;\">I0,0</b>, <b style=\"color: #d44388;\">X0</b>, <b style=\"color: #b1d42e;\">Y0</b>}),</summary>backend=<b style=\"color: #5ee466;\">symmray</b>, dtype=<b style=\"color: #75d2c6;\">float64</b>, data=Z2FermionicArray(shape~(6, 6, 2):[+++], charge=0, num_blocks=4)</details></samp><samp style='font-size: 12px;'><details><summary><b style=\"color: #e55471;\">Tensor</b>(shape=(<b style=\"color: #a4de79;\">6</b>, <b style=\"color: #a4de79;\">6</b>, <b style=\"color: #a4de79;\">6</b>, <b style=\"color: #828fdd;\">2</b>), inds=[<b style=\"color: #5ee1a8;\">b(0, 0)-(0, 1)</b>, <b style=\"color: #d6676f;\">b(0, 1)-(0, 2)</b>, <b style=\"color: #d1e38e;\">b(0, 1)-(1, 1)</b>, <b style=\"color: #de9a98;\">k0,1</b>], tags={<b style=\"color: #92d399;\">I0,1</b>, <b style=\"color: #d44388;\">X0</b>, <b style=\"color: #6c45d0;\">Y1</b>}),</summary>backend=<b style=\"color: #5ee466;\">symmray</b>, dtype=<b style=\"color: #75d2c6;\">float64</b>, data=...</details></samp><samp style='font-size: 12px;'><details><summary><b style=\"color: #e55471;\">Tensor</b>(shape=(<b style=\"color: #a4de79;\">6</b>, <b style=\"color: #a4de79;\">6</b>, <b style=\"color: #a4de79;\">6</b>, <b style=\"color: #828fdd;\">2</b>), inds=[<b style=\"color: #d6676f;\">b(0, 1)-(0, 2)</b>, <b style=\"color: #dc959b;\">b(0, 2)-(0, 3)</b>, <b style=\"color: #cd4160;\">b(0, 2)-(1, 2)</b>, <b style=\"color: #50d0ac;\">k0,2</b>], tags={<b style=\"color: #73d85d;\">I0,2</b>, <b style=\"color: #d44388;\">X0</b>, <b style=\"color: #3fdd7b;\">Y2</b>}),</summary>backend=<b style=\"color: #5ee466;\">symmray</b>, dtype=<b style=\"color: #75d2c6;\">float64</b>, data=...</details></samp><samp style='font-size: 12px;'><details><summary><b style=\"color: #e55471;\">Tensor</b>(shape=(<b style=\"color: #a4de79;\">6</b>, <b style=\"color: #a4de79;\">6</b>, <b style=\"color: #a4de79;\">6</b>, <b style=\"color: #828fdd;\">2</b>), inds=[<b style=\"color: #dc959b;\">b(0, 2)-(0, 3)</b>, <b style=\"color: #5f61d4;\">b(0, 3)-(0, 4)</b>, <b style=\"color: #30e2bc;\">b(0, 3)-(1, 3)</b>, <b style=\"color: #69d040;\">k0,3</b>], tags={<b style=\"color: #deb79b;\">I0,3</b>, <b style=\"color: #d44388;\">X0</b>, <b style=\"color: #63d5a7;\">Y3</b>}),</summary>backend=<b style=\"color: #5ee466;\">symmray</b>, dtype=<b style=\"color: #75d2c6;\">float64</b>, data=...</details></samp><samp style='font-size: 12px;'><details><summary><b style=\"color: #e55471;\">Tensor</b>(shape=(<b style=\"color: #a4de79;\">6</b>, <b style=\"color: #a4de79;\">6</b>, <b style=\"color: #a4de79;\">6</b>, <b style=\"color: #828fdd;\">2</b>), inds=[<b style=\"color: #5f61d4;\">b(0, 3)-(0, 4)</b>, <b style=\"color: #d65242;\">b(0, 4)-(0, 5)</b>, <b style=\"color: #68ddbb;\">b(0, 4)-(1, 4)</b>, <b style=\"color: #e58de5;\">k0,4</b>], tags={<b style=\"color: #ce966e;\">I0,4</b>, <b style=\"color: #d44388;\">X0</b>, <b style=\"color: #37ce56;\">Y4</b>}),</summary>backend=<b style=\"color: #5ee466;\">symmray</b>, dtype=<b style=\"color: #75d2c6;\">float64</b>, data=...</details></samp><samp style='font-size: 12px;'><details><summary><b style=\"color: #e55471;\">Tensor</b>(shape=(<b style=\"color: #a4de79;\">6</b>, <b style=\"color: #a4de79;\">6</b>, <b style=\"color: #828fdd;\">2</b>), inds=[<b style=\"color: #d65242;\">b(0, 4)-(0, 5)</b>, <b style=\"color: #b888d8;\">b(0, 5)-(1, 5)</b>, <b style=\"color: #49d430;\">k0,5</b>], tags={<b style=\"color: #cd7d9d;\">I0,5</b>, <b style=\"color: #d44388;\">X0</b>, <b style=\"color: #c474d8;\">Y5</b>}),</summary>backend=<b style=\"color: #5ee466;\">symmray</b>, dtype=<b style=\"color: #75d2c6;\">float64</b>, data=Z2FermionicArray(shape~(6, 6, 2):[-++], charge=0, num_blocks=4)</details></samp><samp style='font-size: 12px;'><details><summary><b style=\"color: #e55471;\">Tensor</b>(shape=(<b style=\"color: #a4de79;\">6</b>, <b style=\"color: #a4de79;\">6</b>, <b style=\"color: #a4de79;\">6</b>, <b style=\"color: #828fdd;\">2</b>), inds=[<b style=\"color: #959bdf;\">b(0, 0)-(1, 0)</b>, <b style=\"color: #a5e49d;\">b(1, 0)-(1, 1)</b>, <b style=\"color: #46d59d;\">b(1, 0)-(2, 0)</b>, <b style=\"color: #84ce75;\">k1,0</b>], tags={<b style=\"color: #c28de0;\">I1,0</b>, <b style=\"color: #6fe251;\">X1</b>, <b style=\"color: #b1d42e;\">Y0</b>}),</summary>backend=<b style=\"color: #5ee466;\">symmray</b>, dtype=<b style=\"color: #75d2c6;\">float64</b>, data=...</details></samp><samp style='font-size: 12px;'><details><summary><b style=\"color: #e55471;\">Tensor</b>(shape=(<b style=\"color: #a4de79;\">6</b>, <b style=\"color: #a4de79;\">6</b>, <b style=\"color: #a4de79;\">6</b>, <b style=\"color: #a4de79;\">6</b>, <b style=\"color: #828fdd;\">2</b>), inds=[<b style=\"color: #d1e38e;\">b(0, 1)-(1, 1)</b>, <b style=\"color: #a5e49d;\">b(1, 0)-(1, 1)</b>, <b style=\"color: #3ecfd5;\">b(1, 1)-(1, 2)</b>, <b style=\"color: #ce7957;\">b(1, 1)-(2, 1)</b>, <b style=\"color: #d29586;\">k1,1</b>], tags={<b style=\"color: #d67b97;\">I1,1</b>, <b style=\"color: #6fe251;\">X1</b>, <b style=\"color: #6c45d0;\">Y1</b>}),</summary>backend=<b style=\"color: #5ee466;\">symmray</b>, dtype=<b style=\"color: #75d2c6;\">float64</b>, data=...</details></samp><samp style='font-size: 12px;'><details><summary><b style=\"color: #e55471;\">Tensor</b>(shape=(<b style=\"color: #a4de79;\">6</b>, <b style=\"color: #a4de79;\">6</b>, <b style=\"color: #a4de79;\">6</b>, <b style=\"color: #a4de79;\">6</b>, <b style=\"color: #828fdd;\">2</b>), inds=[<b style=\"color: #cd4160;\">b(0, 2)-(1, 2)</b>, <b style=\"color: #3ecfd5;\">b(1, 1)-(1, 2)</b>, <b style=\"color: #6de08c;\">b(1, 2)-(1, 3)</b>, <b style=\"color: #69d4db;\">b(1, 2)-(2, 2)</b>, <b style=\"color: #dd4dba;\">k1,2</b>], tags={<b style=\"color: #da64ad;\">I1,2</b>, <b style=\"color: #6fe251;\">X1</b>, <b style=\"color: #3fdd7b;\">Y2</b>}),</summary>backend=<b style=\"color: #5ee466;\">symmray</b>, dtype=<b style=\"color: #75d2c6;\">float64</b>, data=...</details></samp><samp style='font-size: 12px;'><details><summary><b style=\"color: #e55471;\">Tensor</b>(shape=(<b style=\"color: #a4de79;\">6</b>, <b style=\"color: #a4de79;\">6</b>, <b style=\"color: #a4de79;\">6</b>, <b style=\"color: #a4de79;\">6</b>, <b style=\"color: #828fdd;\">2</b>), inds=[<b style=\"color: #30e2bc;\">b(0, 3)-(1, 3)</b>, <b style=\"color: #6de08c;\">b(1, 2)-(1, 3)</b>, <b style=\"color: #34dc9f;\">b(1, 3)-(1, 4)</b>, <b style=\"color: #8c3cdd;\">b(1, 3)-(2, 3)</b>, <b style=\"color: #afe152;\">k1,3</b>], tags={<b style=\"color: #acd080;\">I1,3</b>, <b style=\"color: #6fe251;\">X1</b>, <b style=\"color: #63d5a7;\">Y3</b>}),</summary>backend=<b style=\"color: #5ee466;\">symmray</b>, dtype=<b style=\"color: #75d2c6;\">float64</b>, data=...</details></samp><samp style='font-size: 12px;'><details><summary><b style=\"color: #e55471;\">Tensor</b>(shape=(<b style=\"color: #a4de79;\">6</b>, <b style=\"color: #a4de79;\">6</b>, <b style=\"color: #a4de79;\">6</b>, <b style=\"color: #a4de79;\">6</b>, <b style=\"color: #828fdd;\">2</b>), inds=[<b style=\"color: #68ddbb;\">b(0, 4)-(1, 4)</b>, <b style=\"color: #34dc9f;\">b(1, 3)-(1, 4)</b>, <b style=\"color: #6b6ad2;\">b(1, 4)-(1, 5)</b>, <b style=\"color: #e4aa9a;\">b(1, 4)-(2, 4)</b>, <b style=\"color: #cae55e;\">k1,4</b>], tags={<b style=\"color: #3ec8d1;\">I1,4</b>, <b style=\"color: #6fe251;\">X1</b>, <b style=\"color: #37ce56;\">Y4</b>}),</summary>backend=<b style=\"color: #5ee466;\">symmray</b>, dtype=<b style=\"color: #75d2c6;\">float64</b>, data=...</details></samp><samp style='font-size: 12px;'><details><summary><b style=\"color: #e55471;\">Tensor</b>(shape=(<b style=\"color: #a4de79;\">6</b>, <b style=\"color: #a4de79;\">6</b>, <b style=\"color: #a4de79;\">6</b>, <b style=\"color: #828fdd;\">2</b>), inds=[<b style=\"color: #b888d8;\">b(0, 5)-(1, 5)</b>, <b style=\"color: #6b6ad2;\">b(1, 4)-(1, 5)</b>, <b style=\"color: #6941cf;\">b(1, 5)-(2, 5)</b>, <b style=\"color: #8dd840;\">k1,5</b>], tags={<b style=\"color: #e13e6b;\">I1,5</b>, <b style=\"color: #6fe251;\">X1</b>, <b style=\"color: #c474d8;\">Y5</b>}),</summary>backend=<b style=\"color: #5ee466;\">symmray</b>, dtype=<b style=\"color: #75d2c6;\">float64</b>, data=...</details></samp><samp style='font-size: 12px;'><details><summary><b style=\"color: #e55471;\">Tensor</b>(shape=(<b style=\"color: #a4de79;\">6</b>, <b style=\"color: #a4de79;\">6</b>, <b style=\"color: #a4de79;\">6</b>, <b style=\"color: #828fdd;\">2</b>), inds=[<b style=\"color: #46d59d;\">b(1, 0)-(2, 0)</b>, <b style=\"color: #cd2e7d;\">b(2, 0)-(2, 1)</b>, <b style=\"color: #db39c2;\">b(2, 0)-(3, 0)</b>, <b style=\"color: #aa87d0;\">k2,0</b>], tags={<b style=\"color: #d472d0;\">I2,0</b>, <b style=\"color: #c654d5;\">X2</b>, <b style=\"color: #b1d42e;\">Y0</b>}),</summary>backend=<b style=\"color: #5ee466;\">symmray</b>, dtype=<b style=\"color: #75d2c6;\">float64</b>, data=...</details></samp><samp style='font-size: 12px;'><details><summary><b style=\"color: #e55471;\">Tensor</b>(shape=(<b style=\"color: #a4de79;\">6</b>, <b style=\"color: #a4de79;\">6</b>, <b style=\"color: #a4de79;\">6</b>, <b style=\"color: #a4de79;\">6</b>, <b style=\"color: #828fdd;\">2</b>), inds=[<b style=\"color: #ce7957;\">b(1, 1)-(2, 1)</b>, <b style=\"color: #cd2e7d;\">b(2, 0)-(2, 1)</b>, <b style=\"color: #da875a;\">b(2, 1)-(2, 2)</b>, <b style=\"color: #83a9d6;\">b(2, 1)-(3, 1)</b>, <b style=\"color: #e1962d;\">k2,1</b>], tags={<b style=\"color: #77df7d;\">I2,1</b>, <b style=\"color: #c654d5;\">X2</b>, <b style=\"color: #6c45d0;\">Y1</b>}),</summary>backend=<b style=\"color: #5ee466;\">symmray</b>, dtype=<b style=\"color: #75d2c6;\">float64</b>, data=...</details></samp><samp style='font-size: 12px;'><details><summary><b style=\"color: #e55471;\">Tensor</b>(shape=(<b style=\"color: #a4de79;\">6</b>, <b style=\"color: #a4de79;\">6</b>, <b style=\"color: #a4de79;\">6</b>, <b style=\"color: #a4de79;\">6</b>, <b style=\"color: #828fdd;\">2</b>), inds=[<b style=\"color: #69d4db;\">b(1, 2)-(2, 2)</b>, <b style=\"color: #da875a;\">b(2, 1)-(2, 2)</b>, <b style=\"color: #853bd9;\">b(2, 2)-(2, 3)</b>, <b style=\"color: #86dcd9;\">b(2, 2)-(3, 2)</b>, <b style=\"color: #936adf;\">k2,2</b>], tags={<b style=\"color: #ceb179;\">I2,2</b>, <b style=\"color: #c654d5;\">X2</b>, <b style=\"color: #3fdd7b;\">Y2</b>}),</summary>backend=<b style=\"color: #5ee466;\">symmray</b>, dtype=<b style=\"color: #75d2c6;\">float64</b>, data=...</details></samp><samp style='font-size: 12px;'><details><summary><b style=\"color: #e55471;\">Tensor</b>(shape=(<b style=\"color: #a4de79;\">6</b>, <b style=\"color: #a4de79;\">6</b>, <b style=\"color: #a4de79;\">6</b>, <b style=\"color: #a4de79;\">6</b>, <b style=\"color: #828fdd;\">2</b>), inds=[<b style=\"color: #8c3cdd;\">b(1, 3)-(2, 3)</b>, <b style=\"color: #853bd9;\">b(2, 2)-(2, 3)</b>, <b style=\"color: #42e159;\">b(2, 3)-(2, 4)</b>, <b style=\"color: #4edc5f;\">b(2, 3)-(3, 3)</b>, <b style=\"color: #8541d1;\">k2,3</b>], tags={<b style=\"color: #dfd34b;\">I2,3</b>, <b style=\"color: #c654d5;\">X2</b>, <b style=\"color: #63d5a7;\">Y3</b>}),</summary>backend=<b style=\"color: #5ee466;\">symmray</b>, dtype=<b style=\"color: #75d2c6;\">float64</b>, data=...</details></samp><samp style='font-size: 12px;'><details><summary><b style=\"color: #e55471;\">Tensor</b>(shape=(<b style=\"color: #a4de79;\">6</b>, <b style=\"color: #a4de79;\">6</b>, <b style=\"color: #a4de79;\">6</b>, <b style=\"color: #a4de79;\">6</b>, <b style=\"color: #828fdd;\">2</b>), inds=[<b style=\"color: #e4aa9a;\">b(1, 4)-(2, 4)</b>, <b style=\"color: #42e159;\">b(2, 3)-(2, 4)</b>, <b style=\"color: #7bdcdb;\">b(2, 4)-(2, 5)</b>, <b style=\"color: #9a7dd0;\">b(2, 4)-(3, 4)</b>, <b style=\"color: #e35cac;\">k2,4</b>], tags={<b style=\"color: #cd4e47;\">I2,4</b>, <b style=\"color: #c654d5;\">X2</b>, <b style=\"color: #37ce56;\">Y4</b>}),</summary>backend=<b style=\"color: #5ee466;\">symmray</b>, dtype=<b style=\"color: #75d2c6;\">float64</b>, data=...</details></samp><samp style='font-size: 12px;'><details><summary><b style=\"color: #e55471;\">Tensor</b>(shape=(<b style=\"color: #a4de79;\">6</b>, <b style=\"color: #a4de79;\">6</b>, <b style=\"color: #a4de79;\">6</b>, <b style=\"color: #828fdd;\">2</b>), inds=[<b style=\"color: #6941cf;\">b(1, 5)-(2, 5)</b>, <b style=\"color: #7bdcdb;\">b(2, 4)-(2, 5)</b>, <b style=\"color: #dd418c;\">b(2, 5)-(3, 5)</b>, <b style=\"color: #d465d0;\">k2,5</b>], tags={<b style=\"color: #e1a482;\">I2,5</b>, <b style=\"color: #c654d5;\">X2</b>, <b style=\"color: #c474d8;\">Y5</b>}),</summary>backend=<b style=\"color: #5ee466;\">symmray</b>, dtype=<b style=\"color: #75d2c6;\">float64</b>, data=...</details></samp><samp style='font-size: 12px;'><details><summary><b style=\"color: #e55471;\">Tensor</b>(shape=(<b style=\"color: #a4de79;\">6</b>, <b style=\"color: #a4de79;\">6</b>, <b style=\"color: #a4de79;\">6</b>, <b style=\"color: #828fdd;\">2</b>), inds=[<b style=\"color: #db39c2;\">b(2, 0)-(3, 0)</b>, <b style=\"color: #8ede94;\">b(3, 0)-(3, 1)</b>, <b style=\"color: #dcd671;\">b(3, 0)-(4, 0)</b>, <b style=\"color: #42d58f;\">k3,0</b>], tags={<b style=\"color: #57ccd3;\">I3,0</b>, <b style=\"color: #e5db50;\">X3</b>, <b style=\"color: #b1d42e;\">Y0</b>}),</summary>backend=<b style=\"color: #5ee466;\">symmray</b>, dtype=<b style=\"color: #75d2c6;\">float64</b>, data=...</details></samp><samp style='font-size: 12px;'><details><summary><b style=\"color: #e55471;\">Tensor</b>(shape=(<b style=\"color: #a4de79;\">6</b>, <b style=\"color: #a4de79;\">6</b>, <b style=\"color: #a4de79;\">6</b>, <b style=\"color: #a4de79;\">6</b>, <b style=\"color: #828fdd;\">2</b>), inds=[<b style=\"color: #83a9d6;\">b(2, 1)-(3, 1)</b>, <b style=\"color: #8ede94;\">b(3, 0)-(3, 1)</b>, <b style=\"color: #e489d4;\">b(3, 1)-(3, 2)</b>, <b style=\"color: #7aa2d6;\">b(3, 1)-(4, 1)</b>, <b style=\"color: #cf3298;\">k3,1</b>], tags={<b style=\"color: #98d482;\">I3,1</b>, <b style=\"color: #e5db50;\">X3</b>, <b style=\"color: #6c45d0;\">Y1</b>}),</summary>backend=<b style=\"color: #5ee466;\">symmray</b>, dtype=<b style=\"color: #75d2c6;\">float64</b>, data=...</details></samp><samp style='font-size: 12px;'><details><summary><b style=\"color: #e55471;\">Tensor</b>(shape=(<b style=\"color: #a4de79;\">6</b>, <b style=\"color: #a4de79;\">6</b>, <b style=\"color: #a4de79;\">6</b>, <b style=\"color: #a4de79;\">6</b>, <b style=\"color: #828fdd;\">2</b>), inds=[<b style=\"color: #86dcd9;\">b(2, 2)-(3, 2)</b>, <b style=\"color: #e489d4;\">b(3, 1)-(3, 2)</b>, <b style=\"color: #55d874;\">b(3, 2)-(3, 3)</b>, <b style=\"color: #dd8f5e;\">b(3, 2)-(4, 2)</b>, <b style=\"color: #5b8bd1;\">k3,2</b>], tags={<b style=\"color: #da8d92;\">I3,2</b>, <b style=\"color: #e5db50;\">X3</b>, <b style=\"color: #3fdd7b;\">Y2</b>}),</summary>backend=<b style=\"color: #5ee466;\">symmray</b>, dtype=<b style=\"color: #75d2c6;\">float64</b>, data=...</details></samp><samp style='font-size: 12px;'><details><summary><b style=\"color: #e55471;\">Tensor</b>(shape=(<b style=\"color: #a4de79;\">6</b>, <b style=\"color: #a4de79;\">6</b>, <b style=\"color: #a4de79;\">6</b>, <b style=\"color: #a4de79;\">6</b>, <b style=\"color: #828fdd;\">2</b>), inds=[<b style=\"color: #4edc5f;\">b(2, 3)-(3, 3)</b>, <b style=\"color: #55d874;\">b(3, 2)-(3, 3)</b>, <b style=\"color: #50d4c2;\">b(3, 3)-(3, 4)</b>, <b style=\"color: #df72b2;\">b(3, 3)-(4, 3)</b>, <b style=\"color: #5daed7;\">k3,3</b>], tags={<b style=\"color: #7fd635;\">I3,3</b>, <b style=\"color: #e5db50;\">X3</b>, <b style=\"color: #63d5a7;\">Y3</b>}),</summary>backend=<b style=\"color: #5ee466;\">symmray</b>, dtype=<b style=\"color: #75d2c6;\">float64</b>, data=...</details></samp><samp style='font-size: 12px;'><details><summary><b style=\"color: #e55471;\">Tensor</b>(shape=(<b style=\"color: #a4de79;\">6</b>, <b style=\"color: #a4de79;\">6</b>, <b style=\"color: #a4de79;\">6</b>, <b style=\"color: #a4de79;\">6</b>, <b style=\"color: #828fdd;\">2</b>), inds=[<b style=\"color: #9a7dd0;\">b(2, 4)-(3, 4)</b>, <b style=\"color: #50d4c2;\">b(3, 3)-(3, 4)</b>, <b style=\"color: #ddd68d;\">b(3, 4)-(3, 5)</b>, <b style=\"color: #ad3ddf;\">b(3, 4)-(4, 4)</b>, <b style=\"color: #d9738c;\">k3,4</b>], tags={<b style=\"color: #9f91da;\">I3,4</b>, <b style=\"color: #e5db50;\">X3</b>, <b style=\"color: #37ce56;\">Y4</b>}),</summary>backend=<b style=\"color: #5ee466;\">symmray</b>, dtype=<b style=\"color: #75d2c6;\">float64</b>, data=...</details></samp><samp style='font-size: 12px;'><details><summary><b style=\"color: #e55471;\">Tensor</b>(shape=(<b style=\"color: #a4de79;\">6</b>, <b style=\"color: #a4de79;\">6</b>, <b style=\"color: #a4de79;\">6</b>, <b style=\"color: #828fdd;\">2</b>), inds=[<b style=\"color: #dd418c;\">b(2, 5)-(3, 5)</b>, <b style=\"color: #ddd68d;\">b(3, 4)-(3, 5)</b>, <b style=\"color: #7adc62;\">b(3, 5)-(4, 5)</b>, <b style=\"color: #5d68d3;\">k3,5</b>], tags={<b style=\"color: #524fe4;\">I3,5</b>, <b style=\"color: #e5db50;\">X3</b>, <b style=\"color: #c474d8;\">Y5</b>}),</summary>backend=<b style=\"color: #5ee466;\">symmray</b>, dtype=<b style=\"color: #75d2c6;\">float64</b>, data=...</details></samp><samp style='font-size: 12px;'><details><summary><b style=\"color: #e55471;\">Tensor</b>(shape=(<b style=\"color: #a4de79;\">6</b>, <b style=\"color: #a4de79;\">6</b>, <b style=\"color: #a4de79;\">6</b>, <b style=\"color: #828fdd;\">2</b>), inds=[<b style=\"color: #dcd671;\">b(3, 0)-(4, 0)</b>, <b style=\"color: #d46483;\">b(4, 0)-(4, 1)</b>, <b style=\"color: #57d685;\">b(4, 0)-(5, 0)</b>, <b style=\"color: #cb7de2;\">k4,0</b>], tags={<b style=\"color: #d54a8d;\">I4,0</b>, <b style=\"color: #6ae463;\">X4</b>, <b style=\"color: #b1d42e;\">Y0</b>}),</summary>backend=<b style=\"color: #5ee466;\">symmray</b>, dtype=<b style=\"color: #75d2c6;\">float64</b>, data=...</details></samp><samp style='font-size: 12px;'><details><summary><b style=\"color: #e55471;\">Tensor</b>(shape=(<b style=\"color: #a4de79;\">6</b>, <b style=\"color: #a4de79;\">6</b>, <b style=\"color: #a4de79;\">6</b>, <b style=\"color: #a4de79;\">6</b>, <b style=\"color: #828fdd;\">2</b>), inds=[<b style=\"color: #7aa2d6;\">b(3, 1)-(4, 1)</b>, <b style=\"color: #d46483;\">b(4, 0)-(4, 1)</b>, <b style=\"color: #e277ce;\">b(4, 1)-(4, 2)</b>, <b style=\"color: #bf6bdd;\">b(4, 1)-(5, 1)</b>, <b style=\"color: #70da4e;\">k4,1</b>], tags={<b style=\"color: #6373d7;\">I4,1</b>, <b style=\"color: #6ae463;\">X4</b>, <b style=\"color: #6c45d0;\">Y1</b>}),</summary>backend=<b style=\"color: #5ee466;\">symmray</b>, dtype=<b style=\"color: #75d2c6;\">float64</b>, data=...</details></samp><samp style='font-size: 12px;'><details><summary><b style=\"color: #e55471;\">Tensor</b>(shape=(<b style=\"color: #a4de79;\">6</b>, <b style=\"color: #a4de79;\">6</b>, <b style=\"color: #a4de79;\">6</b>, <b style=\"color: #a4de79;\">6</b>, <b style=\"color: #828fdd;\">2</b>), inds=[<b style=\"color: #dd8f5e;\">b(3, 2)-(4, 2)</b>, <b style=\"color: #e277ce;\">b(4, 1)-(4, 2)</b>, <b style=\"color: #e59fbb;\">b(4, 2)-(4, 3)</b>, <b style=\"color: #48e0c0;\">b(4, 2)-(5, 2)</b>, <b style=\"color: #d63d6a;\">k4,2</b>], tags={<b style=\"color: #48d235;\">I4,2</b>, <b style=\"color: #6ae463;\">X4</b>, <b style=\"color: #3fdd7b;\">Y2</b>}),</summary>backend=<b style=\"color: #5ee466;\">symmray</b>, dtype=<b style=\"color: #75d2c6;\">float64</b>, data=...</details></samp><samp style='font-size: 12px;'><details><summary><b style=\"color: #e55471;\">Tensor</b>(shape=(<b style=\"color: #a4de79;\">6</b>, <b style=\"color: #a4de79;\">6</b>, <b style=\"color: #a4de79;\">6</b>, <b style=\"color: #a4de79;\">6</b>, <b style=\"color: #828fdd;\">2</b>), inds=[<b style=\"color: #df72b2;\">b(3, 3)-(4, 3)</b>, <b style=\"color: #e59fbb;\">b(4, 2)-(4, 3)</b>, <b style=\"color: #2edf4e;\">b(4, 3)-(4, 4)</b>, <b style=\"color: #935bd5;\">b(4, 3)-(5, 3)</b>, <b style=\"color: #74cce3;\">k4,3</b>], tags={<b style=\"color: #cfcb31;\">I4,3</b>, <b style=\"color: #6ae463;\">X4</b>, <b style=\"color: #63d5a7;\">Y3</b>}),</summary>backend=<b style=\"color: #5ee466;\">symmray</b>, dtype=<b style=\"color: #75d2c6;\">float64</b>, data=...</details></samp><samp style='font-size: 12px;'><details><summary><b style=\"color: #e55471;\">Tensor</b>(shape=(<b style=\"color: #a4de79;\">6</b>, <b style=\"color: #a4de79;\">6</b>, <b style=\"color: #a4de79;\">6</b>, <b style=\"color: #a4de79;\">6</b>, <b style=\"color: #828fdd;\">2</b>), inds=[<b style=\"color: #ad3ddf;\">b(3, 4)-(4, 4)</b>, <b style=\"color: #2edf4e;\">b(4, 3)-(4, 4)</b>, <b style=\"color: #ae8ccf;\">b(4, 4)-(4, 5)</b>, <b style=\"color: #6ecacf;\">b(4, 4)-(5, 4)</b>, <b style=\"color: #de828e;\">k4,4</b>], tags={<b style=\"color: #8556e3;\">I4,4</b>, <b style=\"color: #6ae463;\">X4</b>, <b style=\"color: #37ce56;\">Y4</b>}),</summary>backend=<b style=\"color: #5ee466;\">symmray</b>, dtype=<b style=\"color: #75d2c6;\">float64</b>, data=...</details></samp><samp style='font-size: 12px;'><details><summary><b style=\"color: #e55471;\">Tensor</b>(shape=(<b style=\"color: #a4de79;\">6</b>, <b style=\"color: #a4de79;\">6</b>, <b style=\"color: #a4de79;\">6</b>, <b style=\"color: #828fdd;\">2</b>), inds=[<b style=\"color: #7adc62;\">b(3, 5)-(4, 5)</b>, <b style=\"color: #ae8ccf;\">b(4, 4)-(4, 5)</b>, <b style=\"color: #e14264;\">b(4, 5)-(5, 5)</b>, <b style=\"color: #add987;\">k4,5</b>], tags={<b style=\"color: #87d688;\">I4,5</b>, <b style=\"color: #6ae463;\">X4</b>, <b style=\"color: #c474d8;\">Y5</b>}),</summary>backend=<b style=\"color: #5ee466;\">symmray</b>, dtype=<b style=\"color: #75d2c6;\">float64</b>, data=...</details></samp><samp style='font-size: 12px;'><details><summary><b style=\"color: #e55471;\">Tensor</b>(shape=(<b style=\"color: #a4de79;\">6</b>, <b style=\"color: #a4de79;\">6</b>, <b style=\"color: #828fdd;\">2</b>), inds=[<b style=\"color: #57d685;\">b(4, 0)-(5, 0)</b>, <b style=\"color: #8cd7ca;\">b(5, 0)-(5, 1)</b>, <b style=\"color: #d1d265;\">k5,0</b>], tags={<b style=\"color: #956dcc;\">I5,0</b>, <b style=\"color: #e2db77;\">X5</b>, <b style=\"color: #b1d42e;\">Y0</b>}),</summary>backend=<b style=\"color: #5ee466;\">symmray</b>, dtype=<b style=\"color: #75d2c6;\">float64</b>, data=Z2FermionicArray(shape~(6, 6, 2):[-++], charge=0, num_blocks=4)</details></samp><samp style='font-size: 12px;'><details><summary><b style=\"color: #e55471;\">Tensor</b>(shape=(<b style=\"color: #a4de79;\">6</b>, <b style=\"color: #a4de79;\">6</b>, <b style=\"color: #a4de79;\">6</b>, <b style=\"color: #828fdd;\">2</b>), inds=[<b style=\"color: #bf6bdd;\">b(4, 1)-(5, 1)</b>, <b style=\"color: #8cd7ca;\">b(5, 0)-(5, 1)</b>, <b style=\"color: #6d74dd;\">b(5, 1)-(5, 2)</b>, <b style=\"color: #5c97d1;\">k5,1</b>], tags={<b style=\"color: #8bd988;\">I5,1</b>, <b style=\"color: #e2db77;\">X5</b>, <b style=\"color: #6c45d0;\">Y1</b>}),</summary>backend=<b style=\"color: #5ee466;\">symmray</b>, dtype=<b style=\"color: #75d2c6;\">float64</b>, data=...</details></samp><samp style='font-size: 12px;'><details><summary><b style=\"color: #e55471;\">Tensor</b>(shape=(<b style=\"color: #a4de79;\">6</b>, <b style=\"color: #a4de79;\">6</b>, <b style=\"color: #a4de79;\">6</b>, <b style=\"color: #828fdd;\">2</b>), inds=[<b style=\"color: #48e0c0;\">b(4, 2)-(5, 2)</b>, <b style=\"color: #6d74dd;\">b(5, 1)-(5, 2)</b>, <b style=\"color: #5586cd;\">b(5, 2)-(5, 3)</b>, <b style=\"color: #dd6bc3;\">k5,2</b>], tags={<b style=\"color: #db99c9;\">I5,2</b>, <b style=\"color: #e2db77;\">X5</b>, <b style=\"color: #3fdd7b;\">Y2</b>}),</summary>backend=<b style=\"color: #5ee466;\">symmray</b>, dtype=<b style=\"color: #75d2c6;\">float64</b>, data=...</details></samp><samp style='font-size: 12px;'><details><summary><b style=\"color: #e55471;\">Tensor</b>(shape=(<b style=\"color: #a4de79;\">6</b>, <b style=\"color: #a4de79;\">6</b>, <b style=\"color: #a4de79;\">6</b>, <b style=\"color: #828fdd;\">2</b>), inds=[<b style=\"color: #935bd5;\">b(4, 3)-(5, 3)</b>, <b style=\"color: #5586cd;\">b(5, 2)-(5, 3)</b>, <b style=\"color: #da7ea8;\">b(5, 3)-(5, 4)</b>, <b style=\"color: #356adf;\">k5,3</b>], tags={<b style=\"color: #ce6d4a;\">I5,3</b>, <b style=\"color: #e2db77;\">X5</b>, <b style=\"color: #63d5a7;\">Y3</b>}),</summary>backend=<b style=\"color: #5ee466;\">symmray</b>, dtype=<b style=\"color: #75d2c6;\">float64</b>, data=...</details></samp><samp style='font-size: 12px;'><details><summary><b style=\"color: #e55471;\">Tensor</b>(shape=(<b style=\"color: #a4de79;\">6</b>, <b style=\"color: #a4de79;\">6</b>, <b style=\"color: #a4de79;\">6</b>, <b style=\"color: #828fdd;\">2</b>), inds=[<b style=\"color: #6ecacf;\">b(4, 4)-(5, 4)</b>, <b style=\"color: #da7ea8;\">b(5, 3)-(5, 4)</b>, <b style=\"color: #83da5b;\">b(5, 4)-(5, 5)</b>, <b style=\"color: #b18bce;\">k5,4</b>], tags={<b style=\"color: #cbd26a;\">I5,4</b>, <b style=\"color: #e2db77;\">X5</b>, <b style=\"color: #37ce56;\">Y4</b>}),</summary>backend=<b style=\"color: #5ee466;\">symmray</b>, dtype=<b style=\"color: #75d2c6;\">float64</b>, data=...</details></samp><samp style='font-size: 12px;'><details><summary><b style=\"color: #e55471;\">Tensor</b>(shape=(<b style=\"color: #a4de79;\">6</b>, <b style=\"color: #a4de79;\">6</b>, <b style=\"color: #828fdd;\">2</b>), inds=[<b style=\"color: #e14264;\">b(4, 5)-(5, 5)</b>, <b style=\"color: #83da5b;\">b(5, 4)-(5, 5)</b>, <b style=\"color: #48d67a;\">k5,5</b>], tags={<b style=\"color: #95b6dc;\">I5,5</b>, <b style=\"color: #e2db77;\">X5</b>, <b style=\"color: #c474d8;\">Y5</b>}),</summary>backend=<b style=\"color: #5ee466;\">symmray</b>, dtype=<b style=\"color: #75d2c6;\">float64</b>, data=Z2FermionicArray(shape~(6, 6, 2):[--+], charge=0, num_blocks=4)</details></samp></details></samp>"
      ],
      "text/plain": [
       "PEPS(tensors=36, indices=96, Lx=6, Ly=6, max_bond=6)"
      ]
     },
     "execution_count": 4,
     "metadata": {},
     "output_type": "execute_result"
    }
   ],
   "source": [
    "peps = qtn.TensorNetwork()\n",
    "rng = np.random.default_rng(seed)\n",
    "\n",
    "for site, info in sorted(site_info.items()):\n",
    "\n",
    "    # bond index charge distribution\n",
    "    block_indices = [\n",
    "        sr.BlockIndex({0: d // 2, 1: d // 2}, dual=dual)\n",
    "        for d, dual in zip(info[\"shape\"][:-1], info[\"duals\"][:-1])\n",
    "    ]\n",
    "    # physical index\n",
    "    p = info['shape'][-1]\n",
    "    block_indices.append(\n",
    "        sr.BlockIndex({0: p // 2, 1: p // 2}, dual=info[\"duals\"][-1])\n",
    "    )\n",
    "\n",
    "    data = sr.Z2FermionicArray.random(\n",
    "        block_indices,\n",
    "        charge=0,\n",
    "        seed=rng,\n",
    "    )\n",
    "\n",
    "    peps |= qtn.Tensor(\n",
    "        data=data,\n",
    "        inds=info[\"inds\"],\n",
    "        tags=info[\"tags\"],\n",
    "    )\n",
    "\n",
    "# required to view general TN as an actual PEPS\n",
    "for i, j in site_info:\n",
    "    peps[f\"I{i},{j}\"].add_tag([f\"X{i}\", f\"Y{j}\"])\n",
    "\n",
    "peps.view_as_(\n",
    "    qtn.PEPS,\n",
    "    site_ind_id=\"k{},{}\",\n",
    "    site_tag_id=\"I{},{}\",\n",
    "    x_tag_id=\"X{}\",\n",
    "    y_tag_id=\"Y{}\",\n",
    "    Lx=Lx,\n",
    "    Ly=Ly,\n",
    ")"
   ]
  },
  {
   "cell_type": "code",
   "execution_count": 5,
   "metadata": {},
   "outputs": [],
   "source": [
    "norm = peps.make_norm()"
   ]
  },
  {
   "cell_type": "code",
   "execution_count": 6,
   "metadata": {},
   "outputs": [
    {
     "name": "stderr",
     "output_type": "stream",
     "text": [
      "contracted boundary, Lx=2, Ly=6: : 4it [00:04,  1.04s/it]\n"
     ]
    },
    {
     "data": {
      "text/plain": [
       "1.227912264719253e+46"
      ]
     },
     "execution_count": 6,
     "metadata": {},
     "output_type": "execute_result"
    }
   ],
   "source": [
    "norm.contract_boundary(\n",
    "    max_bond=64,\n",
    "    progbar=True,\n",
    "    layer_tags=[\"BRA\", \"KET\"],\n",
    ")"
   ]
  },
  {
   "cell_type": "code",
   "execution_count": 20,
   "metadata": {},
   "outputs": [],
   "source": [
    "t = 1.0\n",
    "V = 8.0\n",
    "mu = 0.7\n",
    "\n",
    "terms = {\n",
    "    (sitea, siteb): sr.fermi_hubbard_spinless_local_array(\n",
    "        t=t, V=V, mu=mu,\n",
    "        symmetry=\"Z2\",\n",
    "        coordinations=(\n",
    "            site_info[sitea]['coordination'],\n",
    "            site_info[siteb]['coordination'],\n",
    "        ),\n",
    "    ).fuse((0, 1), (2, 3))\n",
    "    for (sitea, siteb) in peps.gen_bond_coos()\n",
    "}"
   ]
  },
  {
   "cell_type": "code",
   "execution_count": 21,
   "metadata": {},
   "outputs": [],
   "source": [
    "ham = qtn.LocalHam2D(Lx, Ly, terms)"
   ]
  },
  {
   "cell_type": "code",
   "execution_count": 22,
   "metadata": {},
   "outputs": [],
   "source": [
    "su = qtn.SimpleUpdateGen(peps, ham)"
   ]
  },
  {
   "cell_type": "code",
   "execution_count": 23,
   "metadata": {},
   "outputs": [
    {
     "name": "stderr",
     "output_type": "stream",
     "text": [
      "n=33, tau=0.3000, energy~-15.185529: 100%|##########| 33/33 [00:08<00:00,  4.04it/s]\n",
      "n=66, tau=0.1000, energy~-16.200310: 100%|##########| 33/33 [00:08<00:00,  4.09it/s]\n",
      "n=99, tau=0.0300, energy~-11.001190: 100%|##########| 33/33 [00:07<00:00,  4.20it/s]\n",
      "n=132, tau=0.0100, energy~-13.296717: 100%|##########| 33/33 [00:07<00:00,  4.16it/s]\n"
     ]
    }
   ],
   "source": [
    "# cluster energies may not be accuracte yet\n",
    "su.evolve(33, tau=0.3)\n",
    "su.evolve(33, tau=0.1)\n",
    "su.evolve(33, tau=0.03)\n",
    "su.evolve(33, tau=0.01)"
   ]
  },
  {
   "cell_type": "code",
   "execution_count": 24,
   "metadata": {},
   "outputs": [],
   "source": [
    "gs = su.get_state()"
   ]
  },
  {
   "cell_type": "code",
   "execution_count": 26,
   "metadata": {},
   "outputs": [
    {
     "data": {
      "text/plain": [
       "-13.685578881751962"
      ]
     },
     "execution_count": 26,
     "metadata": {},
     "output_type": "execute_result"
    }
   ],
   "source": [
    "gs.compute_local_expectation(\n",
    "    ham.terms, normalized=True, max_bond=16,\n",
    ")"
   ]
  },
  {
   "cell_type": "code",
   "execution_count": 27,
   "metadata": {},
   "outputs": [
    {
     "data": {
      "text/plain": [
       "-13.17764863509474"
      ]
     },
     "execution_count": 27,
     "metadata": {},
     "output_type": "execute_result"
    }
   ],
   "source": [
    "gs.compute_local_expectation(\n",
    "    ham.terms, normalized=True, max_bond=32,\n",
    ")"
   ]
  },
  {
   "cell_type": "code",
   "execution_count": 25,
   "metadata": {},
   "outputs": [
    {
     "data": {
      "text/plain": [
       "-13.24757927850316"
      ]
     },
     "execution_count": 25,
     "metadata": {},
     "output_type": "execute_result"
    }
   ],
   "source": [
    "gs.compute_local_expectation(\n",
    "    ham.terms, normalized=True, max_bond=64,\n",
    ")"
   ]
  }
 ],
 "metadata": {
  "kernelspec": {
   "display_name": "py311",
   "language": "python",
   "name": "python3"
  },
  "language_info": {
   "codemirror_mode": {
    "name": "ipython",
    "version": 3
   },
   "file_extension": ".py",
   "mimetype": "text/x-python",
   "name": "python",
   "nbconvert_exporter": "python",
   "pygments_lexer": "ipython3",
   "version": "3.1.undefined"
  }
 },
 "nbformat": 4,
 "nbformat_minor": 2
}
